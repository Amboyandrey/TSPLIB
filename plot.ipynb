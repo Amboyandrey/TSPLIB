{
 "cells": [
  {
   "cell_type": "markdown",
   "metadata": {},
   "source": [
    "normal plot two columns"
   ]
  },
  {
   "cell_type": "code",
   "execution_count": null,
   "metadata": {},
   "outputs": [],
   "source": [
    "import pandas as pd\n",
    "import matplotlib.pyplot as plt\n",
    "\n",
    "def plot_csv_data(csv_file, x_column, y_column, title):\n",
    "    # Read CSV file into a DataFrame\n",
    "    data = pd.read_csv(csv_file)\n",
    "    \n",
    "    # Extract x and y data\n",
    "    x_data = data[\"NNH_2OPT_AVERAGE_DISTANCE\"]\n",
    "    y_data = data[\"NNH_2OPT_AVERAGE_TIME\"]\n",
    "    \n",
    "    # Plot the data\n",
    "    plt.figure(figsize=(10, 6))\n",
    "    plt.plot(x_data, y_data, marker='o', linestyle='-')\n",
    "    \n",
    "    # Add labels and title\n",
    "    plt.xlabel(x_column)\n",
    "    plt.ylabel(y_column)\n",
    "    plt.title(title)\n",
    "    \n",
    "    # Show the plot\n",
    "    plt.grid(True)\n",
    "    plt.show()\n",
    "\n",
    "# Example usage\n",
    "if __name__ == \"__main__\":\n",
    "    csv_file = \"THESIS_DATA.csv\"  \n",
    "    x_column = \"Average Distance\"\n",
    "    y_column = \"Average Time\"\n",
    "    title = \"NNH_2OPT Average Distance x Time\"  \n",
    "    \n",
    "    plot_csv_data(csv_file, x_column, y_column, title)\n"
   ]
  },
  {
   "cell_type": "markdown",
   "metadata": {},
   "source": [
    "vs other algo"
   ]
  },
  {
   "cell_type": "code",
   "execution_count": null,
   "metadata": {},
   "outputs": [],
   "source": [
    "import pandas as pd\n",
    "import matplotlib.pyplot as plt\n",
    "\n",
    "# Read the simulation results from CSV\n",
    "data = pd.read_csv(\"simulation_results.csv\")\n",
    "\n",
    "# Extract data for each algorithm\n",
    "hybrid_nn = data[\"NNH_BEST_DISTANCE\"]\n",
    "hybrid_nn_2opt = data[\"NNH_2OPT_BEST_DISTANCE\"]\n",
    "hybrid_nn_3opt = data[\"NNH_3OPT_BEST_DISTANCE\"]\n",
    "\n",
    "# Define x-axis data (e.g., problem sizes)\n",
    "x_data = data[\"DIMENSION\"]\n",
    "\n",
    "# Plot the results\n",
    "plt.figure(figsize=(10, 6))\n",
    "\n",
    "plt.plot(x_data, hybrid_nn, marker='o', linestyle='-', label='Nearest Neighbor')\n",
    "plt.plot(x_data, hybrid_nn_2opt, marker='o', linestyle='-', label='Hybrid NN with 2-Opt')\n",
    "plt.plot(x_data, hybrid_nn_3opt, marker='o', linestyle='-', label='Hybrid NN with 3-Opt')\n",
    "\n",
    "# Add labels and title\n",
    "plt.xlabel('Problem Size')\n",
    "plt.ylabel('Tour Length')\n",
    "plt.title('Comparison of Algorithms for Traveling Salesman Problem')\n",
    "plt.legend()\n",
    "\n",
    "# Show the plot\n",
    "plt.grid(True)\n",
    "plt.show()\n"
   ]
  },
  {
   "cell_type": "markdown",
   "metadata": {},
   "source": [
    "dimension x algorithms best distnace"
   ]
  },
  {
   "cell_type": "code",
   "execution_count": null,
   "metadata": {},
   "outputs": [],
   "source": [
    "import pandas as pd\n",
    "import matplotlib.pyplot as plt\n",
    "\n",
    "# Read the simulation results from CSV\n",
    "data = pd.read_csv(\"simulation_results.csv\", delimiter=\"\\t\")\n",
    "\n",
    "# Extracting relevant columns\n",
    "dimension = data[\"DIMENSION\"]\n",
    "nnh_average_distance = data[\"NNH_AVERAGE_DISTANCE\"]\n",
    "nnh_best_distance = data[\"NNH_BEST_DISTANCE\"]\n",
    "nnh_2opt_average_distance = data[\"NNH_2OPT_AVERAGE_DISTANCE\"]\n",
    "nnh_2opt_best_distance = data[\"NNH_2OPT_BEST_DISTANCE\"]\n",
    "nnh_3opt_average_distance = data[\"NNH_3OPT_AVERAGE_DISTANCE\"]\n",
    "nnh_3opt_best_distance = data[\"NNH_3OPT_BEST_DISTANCE\"]\n",
    "aco_average_distance = data[\"ACO_AVERAGE_DISTANCE\"]\n",
    "aco_best_distance = data[\"ACO_BEST_DISTANCE\"]\n",
    "sa_average_distance = data[\"SA_AVERAGE_DISTANCE\"]\n",
    "sa_best_distance = data[\"SA_BEST_DISTANCE\"]\n",
    "nih_average_distance = data[\"NIH_AVERAGE_DISTANCE\"]\n",
    "nih_best_distance = data[\"NIH_BEST_DISTANCE\"]\n",
    "\n",
    "# Plotting\n",
    "plt.figure(figsize=(12, 8))\n",
    "\n",
    "plt.plot(dimension, nnh_average_distance, label=\"NNH Average Distance\", marker='o')\n",
    "plt.plot(dimension, nnh_best_distance, label=\"NNH Best Distance\", marker='o')\n",
    "plt.plot(dimension, nnh_2opt_average_distance, label=\"NNH + 2OPT Average Distance\", marker='o')\n",
    "plt.plot(dimension, nnh_2opt_best_distance, label=\"NNH + 2OPT Best Distance\", marker='o')\n",
    "plt.plot(dimension, nnh_3opt_average_distance, label=\"NNH + 3OPT Average Distance\", marker='o')\n",
    "plt.plot(dimension, nnh_3opt_best_distance, label=\"NNH + 3OPT Best Distance\", marker='o')\n",
    "plt.plot(dimension, aco_average_distance, label=\"ACO Average Distance\", marker='o')\n",
    "plt.plot(dimension, aco_best_distance, label=\"ACO Best Distance\", marker='o')\n",
    "plt.plot(dimension, sa_average_distance, label=\"SA Average Distance\", marker='o')\n",
    "plt.plot(dimension, sa_best_distance, label=\"SA Best Distance\", marker='o')\n",
    "plt.plot(dimension, nih_average_distance, label=\"NIH Average Distance\", marker='o')\n",
    "plt.plot(dimension, nih_best_distance, label=\"NIH Best Distance\", marker='o')\n",
    "\n",
    "# Add labels and title\n",
    "plt.xlabel('Problem Size (DIMENSION)')\n",
    "plt.ylabel('Distance')\n",
    "plt.title('Comparative Performance of Algorithms')\n",
    "plt.legend()\n",
    "\n",
    "# Show the plot\n",
    "plt.grid(True)\n",
    "plt.show()\n"
   ]
  },
  {
   "cell_type": "markdown",
   "metadata": {},
   "source": [
    "AVERAGE_NODE_DISTANCE x best distance of kro per algor"
   ]
  },
  {
   "cell_type": "code",
   "execution_count": null,
   "metadata": {},
   "outputs": [],
   "source": [
    "import pandas as pd\n",
    "import matplotlib.pyplot as plt\n",
    "\n",
    "# Read the simulation results from CSV\n",
    "data = pd.read_csv(\"simulation_results.csv\", delimiter=\"\\t\")\n",
    "\n",
    "# Extracting relevant rows (indexing starts from 0)\n",
    "relevant_data = data.iloc[18:25]  # Rows 19 to 25 inclusive\n",
    "\n",
    "# Extracting relevant columns\n",
    "average_node_distance = relevant_data[\"AVERAGE_NODE_DISTANCE\"]\n",
    "nnh_best_distance = relevant_data[\"NNH_BEST_DISTANCE\"]\n",
    "nnh_2opt_best_distance = relevant_data[\"NNH_2OPT_BEST_DISTANCE\"]\n",
    "nnh_3opt_best_distance = relevant_data[\"NNH_3OPT_BEST_DISTANCE\"]\n",
    "\n",
    "# Plotting\n",
    "plt.figure(figsize=(10, 6))\n",
    "\n",
    "plt.plot(average_node_distance, nnh_best_distance, label=\"NNH Best Distance\", marker='o')\n",
    "plt.plot(average_node_distance, nnh_2opt_best_distance, label=\"NNH 2OPT Best Distance\", marker='o')\n",
    "plt.plot(average_node_distance, nnh_3opt_best_distance, label=\"NNH 3OPT Best Distance\", marker='o')\n",
    "\n",
    "# Add labels and title\n",
    "plt.xlabel('Average Node Distance')\n",
    "plt.ylabel('Distance')\n",
    "plt.title('Comparison of NNH with 2OPT and 3OPT Best Distances')\n",
    "plt.legend()\n",
    "\n",
    "# Show the plot\n",
    "plt.grid(True)\n",
    "plt.show()\n"
   ]
  }
 ],
 "metadata": {
  "kernelspec": {
   "display_name": "Python 3",
   "language": "python",
   "name": "python3"
  },
  "language_info": {
   "name": "python",
   "version": "3.10.12"
  }
 },
 "nbformat": 4,
 "nbformat_minor": 2
}
