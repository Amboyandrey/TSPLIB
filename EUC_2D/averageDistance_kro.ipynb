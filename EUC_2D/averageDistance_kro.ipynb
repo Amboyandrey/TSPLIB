{
 "cells": [
  {
   "cell_type": "markdown",
   "metadata": {},
   "source": [
    "Average Distance of node city to each other - kro"
   ]
  },
  {
   "cell_type": "code",
   "execution_count": 12,
   "metadata": {},
   "outputs": [
    {
     "name": "stdout",
     "output_type": "stream",
     "text": [
      "TSP file: kroA100.tsp, Average Distance between nodes: 1710.7069430584324\n",
      "TSP file: kroD100.tsp, Average Distance between nodes: 1631.1036727909955\n",
      "TSP file: kroC100.tsp, Average Distance between nodes: 1700.556765984459\n",
      "TSP file: kroE100.tsp, Average Distance between nodes: 1732.158908843276\n",
      "TSP file: kroB150.tsp, Average Distance between nodes: 1711.6175666827821\n",
      "TSP file: kroA150.tsp, Average Distance between nodes: 1717.3605459446308\n",
      "TSP file: kroB100.tsp, Average Distance between nodes: 1687.5510354602725\n"
     ]
    }
   ],
   "source": [
    "import os\n",
    "import math\n",
    "import re\n",
    "\n",
    "# Function to calculate Euclidean distance between two points\n",
    "def euclidean_distance(x1, y1, x2, y2):\n",
    "    return math.sqrt((x2 - x1)**2 + (y2 - y1)**2)\n",
    "\n",
    "# Parse the TSP dataset and extract coordinates\n",
    "def parse_tsp_dataset(file):\n",
    "    coordinates = []\n",
    "    pattern = re.compile(r'\\s*(\\d+)\\s+(\\d+)\\s+(\\d+)')\n",
    "\n",
    "    in_node_coord_section = False\n",
    "    for line in file.split('\\n'):\n",
    "        if line.startswith(\"NODE_COORD_SECTION\"):\n",
    "            in_node_coord_section = True\n",
    "            continue\n",
    "        if line.startswith(\"EOF\"):\n",
    "            break\n",
    "        if in_node_coord_section:\n",
    "            match = pattern.match(line)\n",
    "            if match:\n",
    "                coordinates.append((float(match.group(2)), float(match.group(3))))\n",
    "\n",
    "    return coordinates\n",
    "\n",
    "# Function to calculate average distance between nodes\n",
    "def calculate_average_distance(node_coordinates):\n",
    "    total_distance = 0\n",
    "    num_pairs = 0\n",
    "    for i, city1_coord in enumerate(node_coordinates):\n",
    "        for j, city2_coord in enumerate(node_coordinates):\n",
    "            if i != j:\n",
    "                distance = euclidean_distance(city1_coord[0], city1_coord[1],\n",
    "                                              city2_coord[0], city2_coord[1])\n",
    "                total_distance += distance\n",
    "                num_pairs += 1\n",
    "    average_distance = total_distance / num_pairs\n",
    "    return average_distance\n",
    "\n",
    "# Load the TSP dataset from a file\n",
    "def load_tsp_file(file_path):\n",
    "    with open(file_path, 'r') as file:\n",
    "        tsp_data = file.read()\n",
    "    return tsp_data\n",
    "\n",
    "# Get list of TSP files ending with \".tsp\" in the current directory\n",
    "tsp_files = [filename for filename in os.listdir() if filename.endswith(\".tsp\") and filename.startswith(\"kro\")]\n",
    "\n",
    "# Process each TSP file and print the average distance\n",
    "for tsp_file in tsp_files:\n",
    "    tsp_data = load_tsp_file(tsp_file)\n",
    "    city_coordinates = parse_tsp_dataset(tsp_data)\n",
    "    average_distance = calculate_average_distance(city_coordinates)\n",
    "    print(f\"TSP file: {tsp_file}, Average Distance between nodes: {average_distance}\")\n"
   ]
  }
 ],
 "metadata": {
  "kernelspec": {
   "display_name": "Python 3",
   "language": "python",
   "name": "python3"
  },
  "language_info": {
   "codemirror_mode": {
    "name": "ipython",
    "version": 3
   },
   "file_extension": ".py",
   "mimetype": "text/x-python",
   "name": "python",
   "nbconvert_exporter": "python",
   "pygments_lexer": "ipython3",
   "version": "3.10.12"
  }
 },
 "nbformat": 4,
 "nbformat_minor": 2
}
